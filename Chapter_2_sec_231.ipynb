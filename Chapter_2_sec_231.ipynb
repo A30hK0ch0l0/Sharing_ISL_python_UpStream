{
 "cells": [
  {
   "cell_type": "markdown",
   "metadata": {},
   "source": [
    "# This is the Python Code for Chapter2 ''Statistical Learning\""
   ]
  },
  {
   "cell_type": "markdown",
   "metadata": {},
   "source": [
    "## 2.3.1 Basic Commands"
   ]
  },
  {
   "cell_type": "code",
   "execution_count": 118,
   "metadata": {
    "collapsed": false
   },
   "outputs": [
    {
     "name": "stdout",
     "output_type": "stream",
     "text": [
      "[1 3 2 5]\n"
     ]
    }
   ],
   "source": [
    "import numpy as np  # for calculation purpose, let use np.array \n",
    "import random # for the random \n",
    "\n",
    "x = np.array([1, 3, 2, 5])\n",
    "print x"
   ]
  },
  {
   "cell_type": "code",
   "execution_count": 119,
   "metadata": {
    "collapsed": false
   },
   "outputs": [
    {
     "name": "stdout",
     "output_type": "stream",
     "text": [
      "[1 6 2]\n"
     ]
    }
   ],
   "source": [
    "x = np.array([1, 6, 2])\n",
    "print x\n",
    "y = [1, 4, 3]"
   ]
  },
  {
   "cell_type": "code",
   "execution_count": 120,
   "metadata": {
    "collapsed": false
   },
   "outputs": [
    {
     "data": {
      "text/plain": [
       "3"
      ]
     },
     "execution_count": 120,
     "metadata": {},
     "output_type": "execute_result"
    }
   ],
   "source": [
    "len(x)  # use len() to find length of a vector"
   ]
  },
  {
   "cell_type": "code",
   "execution_count": 121,
   "metadata": {
    "collapsed": false
   },
   "outputs": [
    {
     "data": {
      "text/plain": [
       "3"
      ]
     },
     "execution_count": 121,
     "metadata": {},
     "output_type": "execute_result"
    }
   ],
   "source": [
    "len(y)"
   ]
  },
  {
   "cell_type": "code",
   "execution_count": 122,
   "metadata": {
    "collapsed": false
   },
   "outputs": [
    {
     "name": "stdout",
     "output_type": "stream",
     "text": [
      "[ 2 10  5]\n"
     ]
    }
   ],
   "source": [
    "print(x + y) # please note that we define x and y a little bit differently, but we still can do the calculation \n",
    "y = np.array([1, 4, 3])"
   ]
  },
  {
   "cell_type": "code",
   "execution_count": 123,
   "metadata": {
    "collapsed": false
   },
   "outputs": [
    {
     "name": "stdout",
     "output_type": "stream",
     "text": [
      "Variable   Type       Data/Info\n",
      "-------------------------------\n",
      "mu         int        0\n",
      "np         module     <module 'numpy' from '/Us<...>ages/numpy/__init__.pyc'>\n",
      "random     module     <module 'random' from '/U<...>ib/python2.7/random.pyc'>\n",
      "sigma      int        1\n",
      "x          ndarray    3: 3 elems, type `int64`, 24 bytes\n",
      "y          ndarray    3: 3 elems, type `int64`, 24 bytes\n"
     ]
    }
   ],
   "source": [
    "whos"
   ]
  },
  {
   "cell_type": "code",
   "execution_count": 124,
   "metadata": {
    "collapsed": false
   },
   "outputs": [],
   "source": [
    "del x # reset_selective x"
   ]
  },
  {
   "cell_type": "code",
   "execution_count": 125,
   "metadata": {
    "collapsed": false
   },
   "outputs": [
    {
     "name": "stdout",
     "output_type": "stream",
     "text": [
      "Variable   Type       Data/Info\n",
      "-------------------------------\n",
      "mu         int        0\n",
      "np         module     <module 'numpy' from '/Us<...>ages/numpy/__init__.pyc'>\n",
      "random     module     <module 'random' from '/U<...>ib/python2.7/random.pyc'>\n",
      "sigma      int        1\n",
      "y          ndarray    3: 3 elems, type `int64`, 24 bytes\n"
     ]
    }
   ],
   "source": [
    "%whos"
   ]
  },
  {
   "cell_type": "code",
   "execution_count": 126,
   "metadata": {
    "collapsed": false
   },
   "outputs": [],
   "source": [
    "reset?"
   ]
  },
  {
   "cell_type": "code",
   "execution_count": 127,
   "metadata": {
    "collapsed": false
   },
   "outputs": [
    {
     "name": "stdout",
     "output_type": "stream",
     "text": [
      "[[1, 2], [3, 4]]\n"
     ]
    }
   ],
   "source": [
    "x = [[1,2],[3, 4]]\n",
    "print x"
   ]
  },
  {
   "cell_type": "code",
   "execution_count": 128,
   "metadata": {
    "collapsed": false
   },
   "outputs": [],
   "source": [
    "x = np.array([1, 2, 3, 4])"
   ]
  },
  {
   "cell_type": "code",
   "execution_count": 129,
   "metadata": {
    "collapsed": false
   },
   "outputs": [
    {
     "name": "stdout",
     "output_type": "stream",
     "text": [
      "[[1 2]\n",
      " [3 4]]\n"
     ]
    }
   ],
   "source": [
    "x = np.reshape(x, [2,2])\n",
    "print x"
   ]
  },
  {
   "cell_type": "code",
   "execution_count": 130,
   "metadata": {
    "collapsed": false
   },
   "outputs": [
    {
     "data": {
      "text/plain": [
       "array([[ 1,  4],\n",
       "       [ 9, 16]])"
      ]
     },
     "execution_count": 130,
     "metadata": {},
     "output_type": "execute_result"
    }
   ],
   "source": [
    "np.sqrt(x)\n",
    "\n",
    "x**2\n",
    "np.square(x)"
   ]
  },
  {
   "cell_type": "code",
   "execution_count": 131,
   "metadata": {
    "collapsed": false
   },
   "outputs": [
    {
     "name": "stdout",
     "output_type": "stream",
     "text": [
      "[-0.46691314  0.8342022   0.21429247  0.99973705 -0.40455975  0.88927353\n",
      "  0.55187197 -1.73578717  0.64367456  1.03957614  0.90050456 -0.65707986\n",
      "  2.23132096 -2.15669623 -0.33842074 -1.19855303 -0.41247541 -0.97402159\n",
      " -0.30070862  0.1615199  -1.39787823  0.24423731  1.01805546 -1.70830743\n",
      "  0.48505175  0.37324811 -2.42310732 -0.28496097  0.30896662  0.34206544\n",
      "  0.69141161 -0.11021055  0.34794409 -1.34580104  0.36789912  0.47226891\n",
      " -1.33768362  0.71906597  0.87721576  0.90681044 -0.20094611 -0.21176003\n",
      " -0.60635944  0.94002898 -1.68031684 -1.19349299  0.16071839  0.76713821\n",
      " -0.42233691  0.04958895] [ 49.66517009  50.8522436   50.12066133  50.96324289  49.7843991\n",
      "  50.94488102  50.7030287   48.11026196  50.69274606  50.93381299\n",
      "  50.84760731  49.36800603  52.18994442  47.69661313  49.57298498\n",
      "  48.92317339  49.61945559  49.0239575   49.63075619  50.1407498\n",
      "  48.59516952  50.26130422  50.94961183  48.24208643  50.47690391\n",
      "  50.47036547  47.55575635  49.69870746  50.23591217  50.43619157\n",
      "  50.70182346  50.00179216  50.32108696  48.74151462  50.3587066\n",
      "  50.42357437  48.65261754  50.67128263  50.75552322  51.00827092\n",
      "  49.86879632  49.93563958  49.6510977   50.99867671  48.36393941\n",
      "  48.91702656  50.11789718  50.79659721  49.62323857  50.24778795]\n"
     ]
    }
   ],
   "source": [
    "mu, sigma = 0, 1\n",
    "x = np.random.normal(mu, sigma, 50)\n",
    "y = x + np.random.normal(50, 0.1, 50)\n",
    "print x, y"
   ]
  },
  {
   "cell_type": "code",
   "execution_count": 132,
   "metadata": {
    "collapsed": false
   },
   "outputs": [
    {
     "data": {
      "text/plain": [
       "array([[ 1.        ,  0.99567641],\n",
       "       [ 0.99567641,  1.        ]])"
      ]
     },
     "execution_count": 132,
     "metadata": {},
     "output_type": "execute_result"
    }
   ],
   "source": [
    "np.corrcoef(x, y) # this will return the correlation matrix "
   ]
  },
  {
   "cell_type": "code",
   "execution_count": 133,
   "metadata": {
    "collapsed": false
   },
   "outputs": [
    {
     "data": {
      "text/plain": [
       "0.9956764109898455"
      ]
     },
     "execution_count": 133,
     "metadata": {},
     "output_type": "execute_result"
    }
   ],
   "source": [
    "np.corrcoef(x, y)[0,1]"
   ]
  },
  {
   "cell_type": "code",
   "execution_count": 134,
   "metadata": {
    "collapsed": true
   },
   "outputs": [],
   "source": [
    "import random \n",
    "random.seed(2333)"
   ]
  },
  {
   "cell_type": "code",
   "execution_count": 135,
   "metadata": {
    "collapsed": false
   },
   "outputs": [
    {
     "data": {
      "text/plain": [
       "array([-0.20471011,  1.35384795, -1.02183393, -1.15899606, -0.61574513,\n",
       "       -1.14966738,  0.12247596, -1.2825328 , -0.94014259,  0.78546441,\n",
       "       -0.57490017,  0.0630337 ,  0.315595  , -0.32821054, -1.28716109,\n",
       "        0.90740826, -0.03508222,  2.60942501, -1.42189242,  0.58918535,\n",
       "       -0.57863109,  0.23313748,  1.16387239,  1.31001639,  0.21537062,\n",
       "       -0.97740245,  0.08015641,  0.82685159,  1.09665363,  1.52686385,\n",
       "       -0.87379505,  0.03878198,  0.78661422,  0.68444601,  0.71109785,\n",
       "        0.15431068,  0.16793029,  0.38062528, -0.33710595, -1.92486181,\n",
       "        2.11459646, -0.40796197, -0.66721093,  0.33512386,  1.8004164 ,\n",
       "        1.26791524, -0.7275932 ,  0.1259763 ,  0.42585775, -0.6561076 ])"
      ]
     },
     "execution_count": 135,
     "metadata": {},
     "output_type": "execute_result"
    }
   ],
   "source": [
    "np.random.normal(mu, sigma, 50) # after set up the seed, this should genernate the same result"
   ]
  },
  {
   "cell_type": "code",
   "execution_count": 136,
   "metadata": {
    "collapsed": true
   },
   "outputs": [],
   "source": [
    "y = np.random.normal(mu, sigma, 100)"
   ]
  },
  {
   "cell_type": "code",
   "execution_count": 137,
   "metadata": {
    "collapsed": false
   },
   "outputs": [
    {
     "name": "stdout",
     "output_type": "stream",
     "text": [
      "0.257754125931\n"
     ]
    }
   ],
   "source": [
    "print np.mean(y)"
   ]
  },
  {
   "cell_type": "code",
   "execution_count": 138,
   "metadata": {
    "collapsed": false
   },
   "outputs": [
    {
     "name": "stdout",
     "output_type": "stream",
     "text": [
      "0.902767232824\n"
     ]
    }
   ],
   "source": [
    "print np.var(y)"
   ]
  },
  {
   "cell_type": "code",
   "execution_count": 139,
   "metadata": {
    "collapsed": false
   },
   "outputs": [
    {
     "name": "stdout",
     "output_type": "stream",
     "text": [
      "0.950140638445\n",
      "0.950140638445\n"
     ]
    }
   ],
   "source": [
    "print np.sqrt(np.var(y))\n",
    "print np.std(y)"
   ]
  },
  {
   "cell_type": "code",
   "execution_count": 140,
   "metadata": {
    "collapsed": false
   },
   "outputs": [
    {
     "name": "stdout",
     "output_type": "stream",
     "text": [
      "-0.0068755893488\n",
      "1.00594709381\n"
     ]
    }
   ],
   "source": [
    "y = np.random.normal(mu, sigma, 5000) # if we raise the number of sample to a larger number, the mean and std will be more close to (0, 1)\n",
    "print np.mean(y)\n",
    "print np.std(y)"
   ]
  }
 ],
 "metadata": {
  "anaconda-cloud": {},
  "kernelspec": {
   "display_name": "Python [default]",
   "language": "python",
   "name": "python2"
  },
  "language_info": {
   "codemirror_mode": {
    "name": "ipython",
    "version": 2
   },
   "file_extension": ".py",
   "mimetype": "text/x-python",
   "name": "python",
   "nbconvert_exporter": "python",
   "pygments_lexer": "ipython2",
   "version": "2.7.12"
  }
 },
 "nbformat": 4,
 "nbformat_minor": 1
}
